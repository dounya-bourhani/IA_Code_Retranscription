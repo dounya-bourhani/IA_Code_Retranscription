{
 "cells": [
  {
   "cell_type": "code",
   "execution_count": null,
   "id": "f5aeb1b2",
   "metadata": {},
   "outputs": [],
   "source": [
    "print('Hello from another notebook!')"
   ]
  },
  {
   "cell_type": "markdown",
   "id": "57b7eaad",
   "metadata": {},
   "source": [
    "# New Markdown Cell"
   ]
  },
  {
   "cell_type": "markdown",
   "id": "c4ece606",
   "metadata": {},
   "source": [
    "### New Markdown Cell"
   ]
  },
  {
   "cell_type": "code",
   "execution_count": null,
   "id": "9d8b2ecd",
   "metadata": {},
   "outputs": [],
   "source": [
    "print('Goodbye!')"
   ]
  },
  {
   "cell_type": "code",
   "execution_count": null,
   "id": "48d93bb7",
   "metadata": {},
   "outputs": [],
   "source": [
    "print('Goodbye!')"
   ]
  },
  {
   "cell_type": "markdown",
   "id": "a1111355",
   "metadata": {},
   "source": [
    "## New Markdown Cell"
   ]
  },
  {
   "cell_type": "code",
   "execution_count": null,
   "id": "afaaeeb0",
   "metadata": {},
   "outputs": [],
   "source": [
    "print('Goodbye!')"
   ]
  }
 ],
 "metadata": {
  "language_info": {
   "name": "python"
  }
 },
 "nbformat": 4,
 "nbformat_minor": 5
}
