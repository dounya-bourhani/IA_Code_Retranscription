{
 "cells": [
  {
   "cell_type": "code",
   "execution_count": null,
   "id": "cf870481",
   "metadata": {},
   "outputs": [],
   "source": [
    "from sklearn.datasets import load_iris\n",
    "iris = load_iris()"
   ]
  },
  {
   "cell_type": "code",
   "execution_count": null,
   "id": "2cf4fab7",
   "metadata": {},
   "outputs": [],
   "source": [
    "# Séparation en train et test avec un ratio de 70/30\n",
    "from sklearn.model_selection import train_test_split\n",
    "X_train, X_test, y_train, y_test = train_test_split(iris.data, iris.target, test_size=0.3, random_state=42)\n",
    "\n",
    "\n",
    "Ici, on utilise la fonction train_test_split de la bibliothèque sklearn.model_selection pour séparer les données en deux ensembles: un ensemble d'entraînement (X_train, y_train) et un ensemble de test (X_test, y_test). Le paramètre test_size permet de spécifier la taille de l'ensemble de test (ici, 30% des données), et le paramètre random_state permet de fixer la graine aléatoire pour des résultats reproductibles."
   ]
  },
  {
   "cell_type": "markdown",
   "id": "ea1dfaa7",
   "metadata": {},
   "source": [
    "Dans ce notebook, les données de l'ensemble Iris sont chargées à l'aide de la fonction load\\_iris() de la bibliothèque sklearn.datasets. Ensuite, ces données sont divisées en deux ensembles: un ensemble d'entraînement et un ensemble de test, en utilisant la fonction train\\_test\\_split() de la bibliothèque sklearn.model\\_selection. Le ratio de division est de 70% pour l'ensemble d'entraînement et 30% pour l'ensemble de test. Le paramètre random\\_state est défini sur 42 pour obtenir des résultats reproductibles. Les données d'entraînement sont représentées par X\\_train et y\\_train, tandis que les données de test sont représentées par X\\_test et y\\_test."
   ]
  },
  {
   "cell_type": "markdown",
   "id": "a47d84e4",
   "metadata": {},
   "source": [
    "# Importance of Train-Test Split\n",
    "\n",
    "The train-test split is a fundamental technique in machine learning that helps to evaluate the performance of a model and prevent overfitting. By dividing the dataset into two separate sets, one for training and one for testing, we can assess how well our model generalizes to new, unseen data. This split ensures that the model is not simply memorizing the training data, but is instead learning patterns and relationships that can be applied to future observations. By using a separate test set, we can have confidence that our model's performance is not artificially inflated and is instead robust and reliable."
   ]
  },
  {
   "cell_type": "code",
   "execution_count": null,
   "id": "bd927c9c",
   "metadata": {},
   "outputs": [],
   "source": [
    "from sklearn.preprocessing import StandardScaler\n",
    "scaler = StandardScaler()\n",
    "X_train = scaler.fit_transform(X_train) # centering and reduction on the training data\n",
    "X_test = scaler.transform(X_test) # only reduction on the test data, using the same parameters as calculated with the training data"
   ]
  },
  {
   "cell_type": "code",
   "execution_count": null,
   "id": "0fc2afa3",
   "metadata": {},
   "outputs": [],
   "source": [
    "import matplotlib.pyplot as plt\n",
    "\n",
    "plt.scatter(X_train[:,0], X_train[:,1])\n",
    "\n",
    "plt.xlabel(iris.feature_names[0])\n",
    "plt.ylabel(iris.feature_names[1])\n",
    "\n",
    "plt.scatter(X_train[:,0][-1], X_train[:,1][-1], color='red') # Modification to make the last point red\n",
    "\n",
    "plt.show()"
   ]
  },
  {
   "cell_type": "markdown",
   "id": "18961121",
   "metadata": {},
   "source": [
    "Ce code utilise la bibliothèque matplotlib de Python pour tracer un graphique de dispersion (scatter plot) des données d'entraînement X\\_train d'un jeu de données (spécifiquement, les données iris).\n",
    "\n",
    "Les deux premières lignes importent la bibliothèque matplotlib sous le nom plt et créent un graphique de dispersion en utilisant la méthode scatter() avec les deux premières colonnes de X\\_train sur l'axe x et y respectivement.\n",
    "\n",
    "Les lignes suivantes ajoutent des étiquettes aux axes en utilisant les noms des caractéristiques du jeu de données iris.\n",
    "\n",
    "La ligne qui suit ajoute un point rouge sur le graphique pour représenter le dernier point de X\\_train, ce qui permet de l'identifier facilement.\n",
    "\n",
    "Enfin, la méthode show() est utilisée pour afficher le graphique."
   ]
  }
 ],
 "metadata": {
  "kernelspec": {
   "display_name": "td_llm",
   "language": "python",
   "name": "python3"
  },
  "language_info": {
   "codemirror_mode": {
    "name": "ipython",
    "version": 3
   },
   "file_extension": ".py",
   "mimetype": "text/x-python",
   "name": "python",
   "nbconvert_exporter": "python",
   "pygments_lexer": "ipython3",
   "version": "3.11.4"
  }
 },
 "nbformat": 4,
 "nbformat_minor": 2
}
