{
 "cells": [
  {
   "cell_type": "code",
   "execution_count": null,
   "id": "69a03ac4-e13f-4d41-aa27-3026480c1dc5",
   "metadata": {},
   "outputs": [],
   "source": [
    "def display_history():\n",
    "    if 'history' in st.session_state:\n",
    "        # Create a container with a border\n",
    "        with st.container(border=False):\n",
    "            st.markdown(\"---\")  # Add a horizontal line for separation\n",
    "            # Display the \"Historique\" title\n",
    "            st.subheader(\"Historique :\")\n",
    "\n",
    "            # Display the download button in the right column\n",
    "            download_history()\n",
    "\n",
    "            # Reverse the order of the history list\n",
    "            reversed_history = reversed(st.session_state['history'])\n",
    "\n",
    "            # Display history in a grid-like format using Markdown table\n",
    "            markdown_table = \"||\\n| ----------- |\\n\"\n",
    "            for request in reversed_history:\n",
    "                markdown_table += f\"| {request} |\\n\"\n",
    "\n",
    "            st.markdown(markdown_table, unsafe_allow_html=True)"
   ]
  },
  {
   "cell_type": "code",
   "execution_count": null,
   "id": "73e0d08a",
   "metadata": {},
   "outputs": [],
   "source": []
  },
  {
   "cell_type": "code",
   "execution_count": null,
   "id": "bf6a1b3c",
   "metadata": {},
   "outputs": [],
   "source": [
    "# Importing necessary library and dataset\n",
    "from sklearn.datasets import load_iris\n",
    "iris = load_iris()"
   ]
  },
  {
   "cell_type": "code",
   "execution_count": null,
   "id": "c06006de",
   "metadata": {},
   "outputs": [],
   "source": [
    "from sklearn.model_selection import train_test_split\n",
    "\n",
    "# Chargement de l'ensemble de données IRIS\n",
    "iris = load_iris()\n",
    "\n",
    "# Faire un split train-test avec 80% des données pour l'entrainement et 20% pour les tests\n",
    "X_train, X_test, y_train, y_test = train_test_split(iris.data, iris.target, test_size=0.2, random_state=42)"
   ]
  },
  {
   "cell_type": "code",
   "execution_count": null,
   "id": "a33502a0",
   "metadata": {},
   "outputs": [],
   "source": [
    "# Importation de l'arbre de décision de sklearn\n",
    "from sklearn.tree import DecisionTreeClassifier\n",
    "\n",
    "# Création d'un arbre de décision avec les données d'entrainement\n",
    "tree_model = DecisionTreeClassifier()\n",
    "tree_model.fit(X_train, y_train)"
   ]
  },
  {
   "cell_type": "code",
   "execution_count": null,
   "id": "8097c376",
   "metadata": {},
   "outputs": [],
   "source": [
    "from sklearn.ensemble import RandomForestRegressor\n",
    "\n",
    "# Création d'un modèle de forêt aléatoire avec 100 arbres décision\n",
    "rf_model = RandomForestRegressor(n_estimators=100)\n",
    "\n",
    "# Entraînement du modèle avec les données d'entraînement\n",
    "rf_model.fit(X_train, y_train)\n",
    "\n",
    "# Prédiction des valeurs de test et stockage dans l'objet \"preds\"\n",
    "preds = rf_model.predict(X_test)"
   ]
  },
  {
   "cell_type": "code",
   "execution_count": null,
   "id": "028d1901",
   "metadata": {},
   "outputs": [],
   "source": [
    "from sklearn.tree import DecisionTreeClassifier\n",
    "\n",
    "# Création d'un arbre de décision avec les données d'entrainement\n",
    "tree_model = DecisionTreeClassifier()\n",
    "\n",
    "# Entraînement du modèle avec les données d'entrainement\n",
    "tree_model.fit(X_train, y_train)\n",
    "\n",
    "# Prédiction des valeurs de test avec le modèle d'arbre de décision\n",
    "preds = tree_model.predict(X_test)"
   ]
  },
  {
   "cell_type": "code",
   "execution_count": null,
   "id": "bb2b4d47",
   "metadata": {},
   "outputs": [],
   "source": [
    "FROM SKLEARN.MODEL_SELECTION IMPORT GridSearchCV\n",
    "\n",
    "CREATION D'UN DICTIONNAIRE AVEC LES PARAMETRES A TESTER PAR LA GRILLE DE RECHERCHE\n",
    "param_dist = {'n_estimators': [10, 50, 100, 200],\n",
    "'max_depth': [None, 10, 20, 30],\n",
    "'min_samples_split': [2, 5, 10],\n",
    "'min_samples_leaf': [1, 2, 4],\n",
    "'bootstrap': [True, False]}\n",
    "\n",
    "CREATION D'UN MODELE DE FORêt ALÉATOIRE AVEC 100 ARBRES DÉCISION\n",
    "rf_model = RandomForestClassifier(n_estimators=100, random_state=42)\n",
    "\n",
    "CREATION D'UNE GRILLE DE RECHERCHE AVEC LE MODELE ET LES PARAMETRES DÉFINIS PRÉCÉDEMMENT\n",
    "grid_search = GridSearchCV(estimator=rf_model, param_grid=param_dist, cv=5, scoring='accuracy', n_jobs1)\n",
    "\n",
    "ENTRAÎNEMENT DU MODELE AVEC LES DONNÉES D'ENTRAÎNEMENT\n",
    "grid_search.fit(X_train, y_train)\n",
    "\n",
    "PRÉDICTION DES VALEURS DE TEST AVEC LE MODELE OPTIMISÉ PAR LA GRILLE DE RECHERCHE\n",
    "preds = grid_search.predict(X_test)"
   ]
  },
  {
   "cell_type": "code",
   "execution_count": null,
   "id": "d3fce34b",
   "metadata": {},
   "outputs": [],
   "source": [
    "# Importation des modules nécessaires\n",
    "from sklearn.model_selection import train_test_split\n",
    "from sklearn.tree import DecisionTreeClassifier\n",
    "from sklearn.ensemble import RandomForestClassifier\n",
    "from sklearn.model_selection import GridSearchCV\n",
    "\n",
    "# Chargement de l'ensemble de données IRIS\n",
    "iris = load_iris()\n",
    "\n",
    "# Faire un split train-test avec 80% des données pour l'entrainement et 20% pour les tests\n",
    "X_train, X_test, y_train, y_test = train_test_split(iris.data, iris.target, test_size=0.2, random_state=42)\n",
    "\n",
    "# Création d'un arbre de décision avec les données d'entrainement\n",
    "tree_model = DecisionTreeClassifier()\n",
    "\n",
    "# Entraînement du modèle avec les données d'entrainement\n",
    "tree_model.fit(X_train, y_train)\n",
    "\n",
    "# Création d'un dictionnaire avec les paramètres à tester par la grille de recherche\n",
    "param_dist = {'n_estimators': [10, 50, 100, 200],\n",
    "'max_depth': [None, 10, 20, 30],\n",
    "'min_samples_split': [2, 5, 10],\n",
    "'min_samples_leaf': [1, 2, 4],\n",
    "'bootstrap': [True, False]}\n",
    "\n",
    "# Création d'un modèle de forêt aléatoire avec 100 arbres décision\n",
    "rf_model = RandomForestClassifier(n_estimators=100, random_state=42)\n",
    "\n",
    "# Création d'une grille de recherche avec le modèle et les paramètres définis précédemment\n",
    "grid_search = GridSearchCV(estimator=rf_model, param_grid=param_dist, cv=5, scoring='accuracy', n_jobs1)\n",
    "\n",
    "# Entraînement du modèle avec"
   ]
  },
  {
   "cell_type": "code",
   "execution_count": null,
   "id": "00455b6a",
   "metadata": {},
   "outputs": [],
   "source": [
    "import pandas as pd\n",
    "\n",
    "from sklearn.tree import DecisionTreeClassifier\n",
    "\n",
    "# Chargement de l'ensemble de données IRIS\n",
    "iris = pd.read_csv(\"iris.csv\")\n",
    "\n",
    "# Faire un split train-test avec 80% des données pour l'entrainement et 20% pour les tests\n",
    "X = iris.drop('species', axis=1)\n",
    "y = iris['species']\n",
    "X_train, X_test, y_train, y_test = train_test_split(X, y, test_size=0.2, random_state=42)\n",
    "\n",
    "# Création d'un arbre de décision avec les données d'entrainement\n",
    "tree_model = DecisionTreeClassifier()\n",
    "\n",
    "# Entraînement du modèle avec les données d'entrainement\n",
    "tree_model.fit(X_train, y_train)\n",
    "\n",
    "# Prédiction des valeurs de test avec le modèle d'arbre de décision\n",
    "preds = tree_model.predict(X_test)"
   ]
  },
  {
   "cell_type": "code",
   "execution_count": null,
   "id": "68ba7258",
   "metadata": {},
   "outputs": [],
   "source": [
    "import numpy as np\n",
    "from sklearn.ensemble import RandomForestRegressor\n",
    "\n",
    "# Création d'un modèle de forêt aléatoire avec 100 arbres décision\n",
    "rf_model = RandomForestRegressor(n_estimators=100)\n",
    "\n",
    "# Entraînement du modèle avec les données d'entraînement\n",
    "rf_model.fit(X_train, y_train)\n",
    "\n",
    "# Prédiction des valeurs de test et stockage dans l'objet \"preds\"\n",
    "preds = rf_model.predict(X_test)"
   ]
  },
  {
   "cell_type": "code",
   "execution_count": null,
   "id": "4e08972c",
   "metadata": {},
   "outputs": [],
   "source": [
    "# Définition de la fonction d'addition\n",
    "def add_two(x):\n",
    "# Ajout 2 à l'input x\n",
    "return x + 2"
   ]
  },
  {
   "cell_type": "code",
   "execution_count": null,
   "id": "3db6394f",
   "metadata": {},
   "outputs": [],
   "source": [
    "def divide_by_two(x):\n",
    "# Division de x par 2\n",
    "return x / 2"
   ]
  },
  {
   "cell_type": "code",
   "execution_count": null,
   "id": "b0d6b012",
   "metadata": {},
   "outputs": [],
   "source": [
    "def multiply_by_five_then_divide_by_three(x):\n",
    "# Multiplie x par 5\n",
    "x = x * 5\n",
    "# Puis divise par 3\n",
    "x = x / 3\n",
    "# Retourne le résultat\n",
    "return x"
   ]
  },
  {
   "cell_type": "code",
   "execution_count": null,
   "id": "02b239d4",
   "metadata": {},
   "outputs": [],
   "source": [
    "def add_two_and_subtract_nine(y):\n",
    "# Appel de la fonction d'addition avec y comme input\n",
    "y = add_two(y)\n",
    "# Définition de la fonction de soustraction\n",
    "def subtract_nine(y):\n",
    "# Soustraction de 9 à y\n",
    "return y - 9\n",
    "# Appel de la fonction de soustraction avec y comme input\n",
    "y = subtract_nine(y)\n",
    "# Retourne le résultat\n",
    "return y"
   ]
  },
  {
   "cell_type": "code",
   "execution_count": null,
   "id": "6f59f42f",
   "metadata": {},
   "outputs": [],
   "source": [
    "# Import des bibliothèques nécessaires\n",
    "from sklearn.datasets import load_iris\n",
    "from sklearn.model_selection import train_test_split\n",
    "from sklearn.ensemble import RandomForestClassifier\n",
    "\n",
    "# Chargement des données IRIS\n",
    "iris_data = load_iris()\n",
    "\n",
    "# Extraction des données et des étiquettes\n",
    "X = iris_data.data\n",
    "y = iris_data.target\n",
    "\n",
    "# Division des données en jeux d'entraînement et de test\n",
    "X_train, X_test, y_train, y_test = train_test_split(X, y, test_size=0.2, random_state=42)\n",
    "\n",
    "# Création d'un modèle de forêt aléatoire avec 100 arbres décision\n",
    "rf_model = RandomForestClassifier(n_estimators=100, random_state=42)\n",
    "\n",
    "# Entraînement du modèle avec les données d'entraînement\n",
    "rf_model.fit(X_train, y_train)\n",
    "\n",
    "# Prédiction des valeurs de test et stockage dans l'objet \"preds\"\n",
    "preds = rf_model.predict(X_test)"
   ]
  },
  {
   "cell_type": "code",
   "execution_count": null,
   "id": "b85713ed",
   "metadata": {},
   "outputs": [],
   "source": [
    "import pandas as pd # Import de la bibliothèque pandas\n",
    "\n",
    "df = pd.DataFrame({'x': [], 'y': []}) # Création d'un dataframe avec pandas avec les colonnes x et y"
   ]
  },
  {
   "cell_type": "code",
   "execution_count": null,
   "id": "87fdbc8f",
   "metadata": {},
   "outputs": [],
   "source": [
    "import pandas as pd # Import de la bibliothèque pandas\n",
    "\n",
    "df = pd.DataFrame({'x': [], 'y': []}) # Création d'un dataframe avec pandas avec les colonnes x et y"
   ]
  },
  {
   "cell_type": "code",
   "execution_count": null,
   "id": "09734fd1",
   "metadata": {},
   "outputs": [],
   "source": [
    "import pandas as pd # Import de la bibliothèque pandas\n",
    "\n",
    "df = pd.DataFrame({'x': [], 'y': []}) # Création d'un dataframe avec pandas avec les colonnes x et y"
   ]
  },
  {
   "cell_type": "code",
   "execution_count": null,
   "id": "be2c83bb",
   "metadata": {},
   "outputs": [],
   "source": [
    "# Import de la bibliothèque Scikit-learn\n",
    "from sklearn.ensemble import RandomForestClassifier\n",
    "\n",
    "\n",
    "\n",
    "# Définition de la fonction d'addition avec deux paramètres en entrée\n",
    "def add_two(x, y):\n",
    "return x + y\n",
    "\n",
    "# Définition de la fonction de soustraction avec deux paramètres en entrée\n",
    "def subtract_nine(z):\n",
    "return z - 9\n",
    "\n",
    "\n",
    "\n",
    "# Chargement des données IRIS\n",
    "iris_data = load_iris()\n",
    "\n",
    "# Extraction des données et des étiquettes\n",
    "X = iris_data.data\n",
    "y = iris_data.target\n",
    "\n",
    "# Division des données en jeux d'entraînement et de test\n",
    "X_train, X_test, y_train, y_test = train_test_split(X, y, test_size=0.2, random_state=42)\n",
    "\n",
    "# Création d'un modèle de forêt aléatoire avec 100 arbres décision\n",
    "rf_model = RandomForestClassifier(n_estimators=100, random_state=42)\n",
    "\n",
    "# Entraînement du modèle avec les données d'entraînement\n",
    "rf_model.fit(X_train, y_train)\n",
    "\n",
    "# Prédiction des valeurs de test et stockage dans l'objet \"preds\"\n",
    "preds = rf_model.predict(X_test)\n",
    "\n",
    "\n",
    "\n",
    "# Import de la bibliothèque pandas\n",
    "import pandas as pd\n",
    "\n",
    "# Création d'un dataframe avec pandas avec les colonnes x et y\n",
    "df = pd.DataFrame({'x': [], 'y': []})"
   ]
  },
  {
   "cell_type": "code",
   "execution_count": null,
   "id": "24aaa2af",
   "metadata": {},
   "outputs": [],
   "source": [
    "from sklearn.ensemble import RandomForestClassifier# Import du module RandomForestClassifier de sklearn\n",
    "\n",
    "rf_model = RandomForestClassifier(n_estimators=100, random_state=42)# Initialisation du modèle RandomForestClassifier avec 100 arbres décision"
   ]
  },
  {
   "cell_type": "code",
   "execution_count": null,
   "id": "487f3a0d",
   "metadata": {},
   "outputs": [],
   "source": [
    "import pandas as pd # Import de la bibliothèque pandas"
   ]
  }
 ],
 "metadata": {
  "kernelspec": {
   "display_name": "Python 3 (ipykernel)",
   "language": "python",
   "name": "python3"
  },
  "language_info": {
   "codemirror_mode": {
    "name": "ipython",
    "version": 3
   },
   "file_extension": ".py",
   "mimetype": "text/x-python",
   "name": "python",
   "nbconvert_exporter": "python",
   "pygments_lexer": "ipython3",
   "version": "3.10.9"
  }
 },
 "nbformat": 4,
 "nbformat_minor": 5
}
