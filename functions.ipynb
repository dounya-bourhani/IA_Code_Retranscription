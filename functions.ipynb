{
 "cells": [
  {
   "cell_type": "code",
   "execution_count": 2,
   "metadata": {},
   "outputs": [],
   "source": [
    "import nbformat\n",
    "from nbformat.v4 import new_notebook, new_code_cell, new_markdown_cell\n",
    "import shutil\n",
    "import os"
   ]
  },
  {
   "cell_type": "markdown",
   "metadata": {},
   "source": [
    "### Notebook"
   ]
  },
  {
   "cell_type": "code",
   "execution_count": 3,
   "metadata": {},
   "outputs": [],
   "source": [
    "def create_notebook(nb_path):\n",
    "    notebook = new_notebook()\n",
    "    with open(nb_path, 'w') as f:\n",
    "        nbformat.write(notebook, f)"
   ]
  },
  {
   "cell_type": "code",
   "execution_count": 4,
   "metadata": {},
   "outputs": [],
   "source": [
    "def load_notebook(nb_path):\n",
    "    with open(nb_path, 'r', encoding='utf-8') as f:\n",
    "        nb = nbformat.read(f, as_version=4)\n",
    "\n",
    "    #save the version as a backup\n",
    "        \n",
    "    #check that the folder exists\n",
    "    if not os.path.exists('backup'):\n",
    "        os.makedirs('backup')\n",
    "\n",
    "    #get the name of the notebook\n",
    "    notebook_name = os.path.basename(nb_path)\n",
    "\n",
    "    #construct the backup path\n",
    "    backup_path = os.path.join(\"backup\", notebook_name)\n",
    "\n",
    "    #copy in the backup folder\n",
    "    shutil.copyfile(nb_path, backup_path)\n",
    "\n",
    "    return nb\n"
   ]
  },
  {
   "cell_type": "code",
   "execution_count": 5,
   "metadata": {},
   "outputs": [],
   "source": [
    "def save_notebook(nb_path, nb):\n",
    "    with open(nb_path, 'w', encoding='utf-8') as f:\n",
    "        nbformat.write(nb, f)"
   ]
  },
  {
   "cell_type": "code",
   "execution_count": 6,
   "metadata": {},
   "outputs": [],
   "source": [
    "def get_old_notebook(nb_path):\n",
    "    #get the name of the notebook\n",
    "    notebook_name = os.path.basename(nb_path)\n",
    "    #construct the backup path\n",
    "    backup_path = os.path.join(\"backup\", notebook_name)\n",
    "\n",
    "    #get our file\n",
    "    with open(backup_path, 'r', encoding='utf-8') as f:\n",
    "        nb = nbformat.read(f, as_version=4)\n",
    "\n",
    "    #save our notebbok with our old version\n",
    "    save_notebook(nb_path, nb)"
   ]
  },
  {
   "cell_type": "markdown",
   "metadata": {},
   "source": [
    "### Création"
   ]
  },
  {
   "cell_type": "code",
   "execution_count": 7,
   "metadata": {},
   "outputs": [],
   "source": [
    "def create_cell(nb_path, content):\n",
    "\n",
    "    #load notebook\n",
    "    nb = load_notebook(nb_path)\n",
    "        \n",
    "    #create a new cell\n",
    "    new_cell = new_code_cell(content)\n",
    "\n",
    "    #append the cell to the notebook\n",
    "    nb.cells.append(new_cell)\n",
    "\n",
    "    #save the notebook\n",
    "    save_notebook(nb_path, nb)"
   ]
  },
  {
   "cell_type": "code",
   "execution_count": 8,
   "metadata": {},
   "outputs": [],
   "source": [
    "def create_markdown(nb_path, content):\n",
    "\n",
    "    #load notebook\n",
    "    nb = load_notebook(nb_path)\n",
    "        \n",
    "    #create a new cell\n",
    "    new_cell = new_markdown_cell(content)\n",
    "\n",
    "    #append the cell to the notebook\n",
    "    nb.cells.append(new_cell)\n",
    "\n",
    "    #save the notebook\n",
    "    save_notebook(nb_path, nb)"
   ]
  },
  {
   "cell_type": "markdown",
   "metadata": {},
   "source": [
    "### Modification"
   ]
  },
  {
   "cell_type": "code",
   "execution_count": 9,
   "metadata": {},
   "outputs": [],
   "source": [
    "def update_last_cell(nb_path, content):\n",
    "\n",
    "    #load notebook\n",
    "    nb = load_notebook(nb_path)\n",
    "\n",
    "    #get the cell\n",
    "    cell_id = len(nb.cells)-1\n",
    "    cell = nb.cells[cell_id]\n",
    "    #update the cell\n",
    "    cell.source = content\n",
    "    #save the notebook\n",
    "    save_notebook(nb_path, nb)"
   ]
  },
  {
   "cell_type": "code",
   "execution_count": 10,
   "metadata": {},
   "outputs": [],
   "source": [
    "def update_cell(nb_path, content, cell_id):\n",
    "\n",
    "    #load notebook\n",
    "    nb = load_notebook(nb_path)\n",
    "\n",
    "    if cell_id > 0 and cell_id <= len(nb.cells) :\n",
    "        #get the cell\n",
    "        cell = nb.cells[cell_id-1]\n",
    "        #check the cell type\n",
    "        if cell.cell_type == \"code\":\n",
    "            #update the cell\n",
    "            cell.source = content\n",
    "        else:\n",
    "            print(f\"Modification impossible car la cellule {cell_id} est une celle de markdown.\")\n",
    "        #save the notebook\n",
    "        save_notebook(nb_path, nb)\n",
    "    else:\n",
    "        print(\"L'index de cellule spécifié est invalide.\")"
   ]
  },
  {
   "cell_type": "code",
   "execution_count": 11,
   "metadata": {},
   "outputs": [],
   "source": [
    "def update_markdown(nb_path, content, cell_id):\n",
    "\n",
    "    #load notebook\n",
    "    nb = load_notebook(nb_path)\n",
    "\n",
    "    if cell_id > 0 and cell_id <= len(nb.cells):\n",
    "        #get the cell\n",
    "        cell = nb.cells[cell_id-1]\n",
    "        #check the cell type\n",
    "        if cell.cell_type == \"markdown\":\n",
    "            #update the cell\n",
    "            cell.source = content\n",
    "        else:\n",
    "            print(f\"Modification impossible car la cellule {cell_id} est une celle de markdown.\")\n",
    "        #save the notebook\n",
    "        save_notebook(nb_path, nb)\n",
    "    else:\n",
    "        print(\"L'index de cellule spécifié est invalide.\")"
   ]
  },
  {
   "cell_type": "markdown",
   "metadata": {},
   "source": [
    "### Suppression"
   ]
  },
  {
   "cell_type": "code",
   "execution_count": 12,
   "metadata": {},
   "outputs": [],
   "source": [
    "def delete_last_cell(nb_path):\n",
    "    #load notebook\n",
    "    nb = load_notebook(nb_path)\n",
    "    #get the cell\n",
    "    cell_id = len(nb.cells)-1\n",
    "    del nb.cells[cell_id]\n",
    "    #save the notebook\n",
    "    save_notebook(nb_path, nb)"
   ]
  },
  {
   "cell_type": "code",
   "execution_count": 13,
   "metadata": {},
   "outputs": [],
   "source": [
    "def delete_cell(nb_path, cell_id):\n",
    "    #load notebook\n",
    "    nb = load_notebook(nb_path)\n",
    "    \n",
    "    if cell_id > 0 and cell_id <= len(nb.cells):\n",
    "        #delete the cell\n",
    "        del nb.cells[cell_id-1]\n",
    "        #save the notebook\n",
    "        save_notebook(nb_path, nb)\n",
    "    else:\n",
    "        print(\"L'index de cellule spécifié est invalide.\")"
   ]
  },
  {
   "cell_type": "markdown",
   "metadata": {},
   "source": [
    "### Explication"
   ]
  },
  {
   "cell_type": "code",
   "execution_count": 14,
   "metadata": {},
   "outputs": [],
   "source": [
    "def get_last_cell(nb_path):\n",
    "    #load notebook\n",
    "    nb = load_notebook(nb_path)\n",
    "\n",
    "    #get last cell\n",
    "    last_cell = nb.cells[len(nb.cells)-1]\n",
    "\n",
    "    #append the cell to the notebook\n",
    "    nb.cells.append(last_cell)\n",
    "\n",
    "    return last_cell.source"
   ]
  },
  {
   "cell_type": "markdown",
   "metadata": {},
   "source": [
    "### Duplication"
   ]
  },
  {
   "cell_type": "code",
   "execution_count": 16,
   "metadata": {},
   "outputs": [
    {
     "name": "stderr",
     "output_type": "stream",
     "text": [
      "c:\\Python311\\Lib\\site-packages\\nbformat\\__init__.py:96: DuplicateCellId: Non-unique cell id 'ffeb197b' detected. Corrected to '3166de4b'.\n",
      "  validate(nb)\n",
      "c:\\Python311\\Lib\\site-packages\\nbformat\\__init__.py:132: DuplicateCellId: Non-unique cell id '3166de4b' detected. Corrected to '04ec945f'.\n",
      "  validate(nb)\n"
     ]
    }
   ],
   "source": [
    "def duplicate_last_cell(nb_path):\n",
    "    #load notebook\n",
    "    nb = load_notebook(nb_path)\n",
    "\n",
    "    #get last cell\n",
    "    last_cell = nb.cells[len(nb.cells)-1]\n",
    "\n",
    "    #append the cell to the notebook\n",
    "    nb.cells.append(last_cell)\n",
    "\n",
    "    #save the notebook\n",
    "    save_notebook(nb_path, nb)\n",
    "\n",
    "duplicate_last_cell('nouveau_notebook.ipynb')"
   ]
  },
  {
   "cell_type": "code",
   "execution_count": 17,
   "metadata": {},
   "outputs": [
    {
     "name": "stderr",
     "output_type": "stream",
     "text": [
      "c:\\Python311\\Lib\\site-packages\\nbformat\\__init__.py:96: DuplicateCellId: Non-unique cell id '04ec945f' detected. Corrected to '93b17ad4'.\n",
      "  validate(nb)\n",
      "c:\\Python311\\Lib\\site-packages\\nbformat\\__init__.py:132: DuplicateCellId: Non-unique cell id '57b7eaad' detected. Corrected to '3c6304a7'.\n",
      "  validate(nb)\n"
     ]
    }
   ],
   "source": [
    "def duplicate_cell(nb_path, cell_id):\n",
    "    #load notebook\n",
    "    nb = load_notebook(nb_path)\n",
    "\n",
    "    if cell_id > 0 and cell_id <= len(nb.cells):\n",
    "        #get the cell to duplicate\n",
    "        cell = nb.cells[cell_id-1]\n",
    "        #append the cell to the notebook\n",
    "        nb.cells.append(cell)\n",
    "        #save the notebook\n",
    "        save_notebook(nb_path, nb)\n",
    "    else:\n",
    "        print(\"L'index de cellule spécifié est invalide.\")\n",
    "\n",
    "duplicate_cell('nouveau_notebook.ipynb', 2)"
   ]
  },
  {
   "cell_type": "markdown",
   "metadata": {},
   "source": [
    "### Test"
   ]
  },
  {
   "cell_type": "code",
   "execution_count": 104,
   "metadata": {},
   "outputs": [],
   "source": [
    "get_last_cell('nouveau_notebook.ipynb')\n",
    "create_markdown('nouveau_notebook.ipynb', get_last_cell('nouveau_notebook.ipynb'))"
   ]
  },
  {
   "cell_type": "code",
   "execution_count": 11,
   "metadata": {},
   "outputs": [],
   "source": [
    "create_notebook('nouveau_notebook.ipynb')"
   ]
  },
  {
   "cell_type": "code",
   "execution_count": 83,
   "metadata": {},
   "outputs": [],
   "source": [
    "create_cell('nouveau_notebook.ipynb', \"print('Hello from another notebook!')\")"
   ]
  },
  {
   "cell_type": "code",
   "execution_count": 123,
   "metadata": {},
   "outputs": [],
   "source": [
    "create_markdown('nouveau_notebook.ipynb', \"### New Markdown Cell\")"
   ]
  },
  {
   "cell_type": "code",
   "execution_count": 47,
   "metadata": {},
   "outputs": [],
   "source": [
    "update_last_cell('nouveau_notebook.ipynb', \"## New Markdown Cell\")"
   ]
  },
  {
   "cell_type": "code",
   "execution_count": 79,
   "metadata": {},
   "outputs": [
    {
     "name": "stdout",
     "output_type": "stream",
     "text": [
      "Modification impossible car la cellule 9 est une celle de markodwn.\n"
     ]
    }
   ],
   "source": [
    "update_cell('nouveau_notebook.ipynb', \"print('Hellooooo!')\", 9)"
   ]
  },
  {
   "cell_type": "code",
   "execution_count": 122,
   "metadata": {},
   "outputs": [
    {
     "name": "stdout",
     "output_type": "stream",
     "text": [
      "L'index de cellule spécifié est invalide.\n"
     ]
    }
   ],
   "source": [
    "update_markdown('nouveau_notebook.ipynb', \"# New Markdown Cell\",0)"
   ]
  },
  {
   "cell_type": "code",
   "execution_count": 85,
   "metadata": {},
   "outputs": [],
   "source": [
    "delete_cell('nouveau_notebook.ipynb', 8)"
   ]
  },
  {
   "cell_type": "code",
   "execution_count": 120,
   "metadata": {},
   "outputs": [],
   "source": [
    "delete_last_cell('nouveau_notebook.ipynb')"
   ]
  },
  {
   "cell_type": "code",
   "execution_count": 125,
   "metadata": {},
   "outputs": [],
   "source": [
    "get_old_notebook(\"nouveau_notebook.ipynb\")"
   ]
  }
 ],
 "metadata": {
  "kernelspec": {
   "display_name": "Python 3",
   "language": "python",
   "name": "python3"
  },
  "language_info": {
   "codemirror_mode": {
    "name": "ipython",
    "version": 3
   },
   "file_extension": ".py",
   "mimetype": "text/x-python",
   "name": "python",
   "nbconvert_exporter": "python",
   "pygments_lexer": "ipython3",
   "version": "3.11.4"
  },
  "orig_nbformat": 4
 },
 "nbformat": 4,
 "nbformat_minor": 2
}
