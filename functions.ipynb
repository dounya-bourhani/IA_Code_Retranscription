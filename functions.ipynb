{
 "cells": [
  {
   "cell_type": "code",
   "execution_count": 7,
   "metadata": {},
   "outputs": [],
   "source": [
    "import nbformat\n",
    "from nbformat.v4 import new_notebook, new_code_cell, new_markdown_cell"
   ]
  },
  {
   "cell_type": "code",
   "execution_count": 10,
   "metadata": {},
   "outputs": [],
   "source": [
    "def create_notebook(nb_path):\n",
    "    notebook = new_notebook()\n",
    "    with open(nb_path, 'w') as f:\n",
    "        nbformat.write(notebook, f)"
   ]
  },
  {
   "cell_type": "code",
   "execution_count": 29,
   "metadata": {},
   "outputs": [],
   "source": [
    "def load_notebook(nb_path):\n",
    "    with open(nb_path, 'r', encoding='utf-8') as f:\n",
    "        nb = nbformat.read(f, as_version=4)\n",
    "    return nb"
   ]
  },
  {
   "cell_type": "code",
   "execution_count": 46,
   "metadata": {},
   "outputs": [],
   "source": [
    "def save_notebook(nb_path, nb):\n",
    "    with open(nb_path, 'w', encoding='utf-8') as f:\n",
    "        nbformat.write(nb, f)"
   ]
  },
  {
   "cell_type": "code",
   "execution_count": 30,
   "metadata": {},
   "outputs": [],
   "source": [
    "def create_cell(nb_path, content):\n",
    "\n",
    "    #load notebook\n",
    "    nb = load_notebook(nb_path)\n",
    "        \n",
    "    #create a new cell\n",
    "    new_cell = new_code_cell(content)\n",
    "\n",
    "    #append the cell to the notebook\n",
    "    nb.cells.append(new_cell)\n",
    "\n",
    "    #save the notebook\n",
    "    save_notebook(nb_path, nb)"
   ]
  },
  {
   "cell_type": "code",
   "execution_count": 32,
   "metadata": {},
   "outputs": [],
   "source": [
    "def create_markdown(nb_path, content):\n",
    "\n",
    "    #load notebook\n",
    "    nb = load_notebook(nb_path)\n",
    "        \n",
    "    #create a new cell\n",
    "    new_cell = new_markdown_cell(content)\n",
    "\n",
    "    #append the cell to the notebook\n",
    "    nb.cells.append(new_cell)\n",
    "\n",
    "    #save the notebook\n",
    "    save_notebook(nb_path, nb)"
   ]
  },
  {
   "cell_type": "code",
   "execution_count": 44,
   "metadata": {},
   "outputs": [],
   "source": [
    "def update_last_cell(nb_path, content):\n",
    "\n",
    "    #load notebook\n",
    "    nb = load_notebook(nb_path)\n",
    "\n",
    "    #get the cell\n",
    "    cell_id = len(nb.cells)-1\n",
    "    cell = nb.cells[cell_id]\n",
    "    #update the cell\n",
    "    cell.source = content\n",
    "    #save the notebook\n",
    "    save_notebook(nb_path, nb)"
   ]
  },
  {
   "cell_type": "code",
   "execution_count": 50,
   "metadata": {},
   "outputs": [],
   "source": [
    "def update_cell(nb_path, content, cell_id):\n",
    "\n",
    "    #load notebook\n",
    "    nb = load_notebook(nb_path)\n",
    "\n",
    "    if cell_id < len(nb.cells):\n",
    "        #get the cell\n",
    "        cell = nb.cells[cell_id-1]\n",
    "        #update the cell\n",
    "        cell.source = content\n",
    "        #save the notebook\n",
    "        save_notebook(nb_path, nb)\n",
    "    else:\n",
    "        print(\"L'index de cellule spécifié est invalide.\")"
   ]
  },
  {
   "cell_type": "code",
   "execution_count": 11,
   "metadata": {},
   "outputs": [],
   "source": [
    "create_notebook('nouveau_notebook.ipynb')"
   ]
  },
  {
   "cell_type": "code",
   "execution_count": 31,
   "metadata": {},
   "outputs": [],
   "source": [
    "create_cell('nouveau_notebook.ipynb', \"print('Hello from another notebook!')\")"
   ]
  },
  {
   "cell_type": "code",
   "execution_count": 33,
   "metadata": {},
   "outputs": [],
   "source": [
    "create_markdown('nouveau_notebook.ipynb', \"### New Markdown Cell\")"
   ]
  },
  {
   "cell_type": "code",
   "execution_count": 47,
   "metadata": {},
   "outputs": [],
   "source": [
    "update_last_cell('nouveau_notebook.ipynb', \"## New Markdown Cell\")"
   ]
  },
  {
   "cell_type": "code",
   "execution_count": 51,
   "metadata": {},
   "outputs": [],
   "source": [
    "update_cell('nouveau_notebook.ipynb', \"print('Goodbye!')\", 4)"
   ]
  }
 ],
 "metadata": {
  "kernelspec": {
   "display_name": "Python 3",
   "language": "python",
   "name": "python3"
  },
  "language_info": {
   "codemirror_mode": {
    "name": "ipython",
    "version": 3
   },
   "file_extension": ".py",
   "mimetype": "text/x-python",
   "name": "python",
   "nbconvert_exporter": "python",
   "pygments_lexer": "ipython3",
   "version": "3.11.4"
  },
  "orig_nbformat": 4
 },
 "nbformat": 4,
 "nbformat_minor": 2
}
