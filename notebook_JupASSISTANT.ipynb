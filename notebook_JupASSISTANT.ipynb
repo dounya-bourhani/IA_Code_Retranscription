{
 "cells": [
  {
   "cell_type": "code",
   "execution_count": null,
   "metadata": {},
   "outputs": [],
   "source": [
    "from langchain.chains import LLMChain\n",
    "from langchain.prompts import PromptTemplate\n",
    "from langchain.llms import HuggingFaceHub\n",
    "\n",
    "\n",
    "import matplotlib.pyplot as plt\n",
    "import seaborn as sns\n",
    "import pandas as pd\n",
    "import numpy as np\n",
    "# On lit nos variables environnments avec nos clés APIs\n",
    "import os\n",
    "from dotenv import load_dotenv, find_dotenv\n",
    "\n",
    "\n",
    "_ = load_dotenv(find_dotenv())"
   ]
  },
  {
   "cell_type": "code",
   "execution_count": null,
   "metadata": {},
   "outputs": [],
   "source": [
    "llm =  HuggingFaceHub(repo_id=\"mistralai/Mixtral-8x7B-Instruct-v0.1\", model_kwargs={\"temperature\": 0.1, \"max_new_tokens\": 500})"
   ]
  },
  {
   "cell_type": "code",
   "execution_count": null,
   "metadata": {},
   "outputs": [],
   "source": [
    "def chain_router(query):\n",
    "        prompt_router =  \"\"\"[INST] Return only the name of the function to choose based on the query.\n",
    "        The user have to explicitely ask to update in order to use update_last_cell or update_cell, otherwise, always create a new cell.\n",
    "\n",
    "        Does not add explanation. Limit yourself to just the name of the query.\n",
    "        \n",
    "        Here are your options:\n",
    "        Function list: \n",
    "        - create_code_cell: Create a code cell with new code lines\n",
    "        - create_markdown: Create a markdown cell with new text (explanation, context)\n",
    "        - update_last_cell: Update the last cell of the notebook\n",
    "        - update_cell: Update the cell at the index i\n",
    "        - delete_last_cell: Delete the last cell\n",
    "        - delete_cell : Delete the cell at the index i\n",
    "        - explain_last_cell: Explain the last cell\n",
    "\n",
    "        \"QUERY\": \n",
    "        {query}\n",
    "        \n",
    "        Limit to one word.\n",
    "        [/INST] \n",
    "\n",
    "        Name of the function to choose:\n",
    "        \"\"\"\n",
    "        prompt_router_templ = PromptTemplate(input_variables=[\"query\"], template=prompt_router)\n",
    "        chain_router = LLMChain(prompt=prompt_router_templ, llm=llm)\n",
    "        answer = chain_router.invoke({\"query\": query})\n",
    "        print(answer[\"text\"].split(\"choose:\")[1].strip())\n",
    "        return answer[\"text\"].split(\"choose:\")[1].strip()"
   ]
  },
  {
   "cell_type": "code",
   "execution_count": null,
   "metadata": {},
   "outputs": [],
   "source": [
    "chain_router"
   ]
  },
  {
   "cell_type": "code",
   "execution_count": null,
   "metadata": {},
   "outputs": [],
   "source": [
    "def code_generation(query):\n",
    "        prompt_coder =  \"\"\"[INST]Generate only the python code lines to realize: {query}.\n",
    "        Return only code lines, do not add additional text.\n",
    "         \n",
    "\n",
    "        Do not explain the arguments of the code and do not add notes or explanation. Do not use a list.\n",
    "        Remove all the sentences which are not code lines.\n",
    "        [/INST] \n",
    "\n",
    "        The python code is:\"\"\"\n",
    "        prompt_coder_templ = PromptTemplate(input_variables=[\"query\"], template=prompt_coder)\n",
    "        chain_coder = LLMChain(prompt=prompt_coder_templ, llm=llm)\n",
    "        answer = chain_coder.invoke({\"query\": query})\n",
    "        print(answer[\"text\"].split(\"is:\")[1].strip())\n",
    "        return answer[\"text\"].split(\"is:\")[1].strip()"
   ]
  },
  {
   "cell_type": "code",
   "execution_count": null,
   "metadata": {},
   "outputs": [],
   "source": [
    "answer = code_generation(\"Je veux un bar plot\")"
   ]
  },
  {
   "cell_type": "code",
   "execution_count": null,
   "metadata": {},
   "outputs": [],
   "source": [
    "def markdown_generation(query):\n",
    "        prompt_markdown =  \"\"\"[INST]Ta tâche est de créer un document markdown.\n",
    "        {query}.\n",
    "        Sois bref. Limites toi à un paragraphe.\n",
    "        [/INST] \n",
    "\n",
    "        Markdown:\"\"\"\n",
    "        prompt_markdown_templ = PromptTemplate(input_variables=[\"query\"], template=prompt_markdown)\n",
    "        chain_markdown = LLMChain(prompt=prompt_markdown_templ, llm=llm)\n",
    "        answer = chain_markdown.invoke({\"query\": query})\n",
    "        print(answer[\"text\"].split(\"Markdown:\")[1].strip())\n",
    "        return answer[\"text\"].split(\"Markdown:\")[1].strip()"
   ]
  },
  {
   "cell_type": "code",
   "execution_count": null,
   "metadata": {},
   "outputs": [],
   "source": [
    "markdown_generation(\"La définition du score de davies bouldin\")"
   ]
  },
  {
   "cell_type": "code",
   "execution_count": null,
   "metadata": {},
   "outputs": [],
   "source": [
    "def code_explanation(query):\n",
    "        prompt_explanation =  \"\"\"[INST]Tu dois expliquer en quelques lignes le code suivant.\n",
    "        {code}.\n",
    "        \n",
    "        [/INST] \n",
    "\n",
    "        Explication:\"\"\"\n",
    "        prompt_explanation_templ = PromptTemplate(input_variables=[\"query\"], template=prompt_explanation)\n",
    "        chain_explanation = LLMChain(prompt=prompt_explanation_templ, llm=llm)\n",
    "        answer = chain_explanation.invoke({\"code\": query})\n",
    "        print(answer[\"text\"].split(\"Explication:\")[1].strip())\n",
    "        return answer[\"text\"].split(\"Explication:\")[1].strip()"
   ]
  },
  {
   "cell_type": "code",
   "execution_count": null,
   "metadata": {},
   "outputs": [],
   "source": [
    "def code_update(query, code):\n",
    "        prompt_explanation =  \"\"\"[INST]Update the code to respect the following query : {query}.\n",
    "        Do not add additional text.\n",
    "        Do not explain the arguments of the code and do not explain the change lines. Do not use a list.\n",
    "        Remove all the sentences which are not code lines.\n",
    "        \n",
    "        {code}\n",
    "        \n",
    "        [/INST] \n",
    "\n",
    "        Updated Code:\"\"\"\n",
    "        prompt_explanation_templ = PromptTemplate(input_variables=[\"query\", \"code\"], template=prompt_explanation)\n",
    "        chain_explanation = LLMChain(prompt=prompt_explanation_templ, llm=llm)\n",
    "        answer = chain_explanation.invoke({\"query\": query, \"code\": code})\n",
    "        print(answer[\"text\"])\n",
    "        print(answer[\"text\"].split(\"Code:\")[1].strip())\n",
    "        return answer[\"text\"].split(\"Code:\")[1].strip()"
   ]
  },
  {
   "cell_type": "code",
   "execution_count": null,
   "metadata": {},
   "outputs": [],
   "source": []
  },
  {
   "cell_type": "code",
   "execution_count": null,
   "metadata": {},
   "outputs": [],
   "source": [
    "import nbformat\n",
    "import shutil\n",
    "\n",
    "from nbformat.v4 import new_notebook, new_code_cell, new_markdown_cell\n",
    "\n",
    "def create_notebook(nb_path):\n",
    "    notebook = new_notebook()\n",
    "    with open(nb_path, 'w') as f:\n",
    "        nbformat.write(notebook, f)\n",
    "def load_notebook(nb_path):\n",
    "    with open(nb_path, 'r', encoding='utf-8') as f:\n",
    "        nb = nbformat.read(f, as_version=4)\n",
    "\n",
    "    #save the version as a backup\n",
    "        \n",
    "    #check that the folder exists\n",
    "    if not os.path.exists('backup'):\n",
    "        os.makedirs('backup')\n",
    "\n",
    "    #get the name of the notebook\n",
    "    notebook_name = os.path.basename(nb_path)\n",
    "\n",
    "    #construct the backup path\n",
    "    backup_path = os.path.join(\"backup\", notebook_name)\n",
    "\n",
    "    #copy in the backup folder\n",
    "    shutil.copyfile(nb_path, backup_path)\n",
    "\n",
    "    return nb\n",
    "def save_notebook(nb_path, nb):\n",
    "    with open(nb_path, 'w', encoding='utf-8') as f:\n",
    "        nbformat.write(nb, f)\n",
    "        \n",
    "def create_code_cell(nb_path, content):\n",
    "    #load notebook\n",
    "    nb = load_notebook(nb_path)\n",
    "        \n",
    "    #create a new cell\n",
    "    new_cell = new_code_cell(content)\n",
    "\n",
    "    #append the cell to the notebook\n",
    "    nb.cells.append(new_cell)\n",
    "\n",
    "    #save the notebook\n",
    "    save_notebook(nb_path, nb)\n",
    "    \n",
    "def create_markdown(nb_path, content):\n",
    "\n",
    "    #load notebook\n",
    "    nb = load_notebook(nb_path)\n",
    "        \n",
    "    #create a new cell\n",
    "    new_cell = new_markdown_cell(content)\n",
    "\n",
    "    #append the cell to the notebook\n",
    "    nb.cells.append(new_cell)\n",
    "\n",
    "    #save the notebook\n",
    "    save_notebook(nb_path, nb)\n",
    "def update_last_cell(nb_path, content):\n",
    "\n",
    "    #load notebook\n",
    "    nb = load_notebook(nb_path)\n",
    "\n",
    "    #get the cell\n",
    "    cell_id = len(nb.cells)-1\n",
    "    cell = nb.cells[cell_id]\n",
    "    #update the cell\n",
    "    cell.source = content\n",
    "    #save the notebook\n",
    "    save_notebook(nb_path, nb)\n",
    "def update_cell(nb_path, content, cell_id):\n",
    "    #load notebook\n",
    "    nb = load_notebook(nb_path)\n",
    "\n",
    "    if cell_id < len(nb.cells):\n",
    "        #get the cell\n",
    "        cell = nb.cells[cell_id-1]\n",
    "        #update the cell\n",
    "        cell.source = content\n",
    "        #save the notebook\n",
    "        save_notebook(nb_path, nb)\n",
    "    else:\n",
    "        print(\"L'index de cellule spécifié est invalide.\")\n",
    "\n",
    "def update_markdown(nb_path, content, cell_id):\n",
    "\n",
    "    #load notebook\n",
    "    nb = load_notebook(nb_path)\n",
    "\n",
    "    if cell_id > 0 and cell_id <= len(nb.cells):\n",
    "        #get the cell\n",
    "        cell = nb.cells[cell_id-1]\n",
    "        #check the cell type\n",
    "        if cell.cell_type == \"markdown\":\n",
    "            #update the cell\n",
    "            cell.source = content\n",
    "        else:\n",
    "            print(f\"Modification impossible car la cellule {cell_id} est une celle de markdown.\")\n",
    "        #save the notebook\n",
    "        save_notebook(nb_path, nb)\n",
    "    else:\n",
    "        print(\"L'index de cellule spécifié est invalide.\")\n",
    "\n",
    "def delete_last_cell(nb_path):\n",
    "    #load notebook\n",
    "    nb = load_notebook(nb_path)\n",
    "    #get the cell\n",
    "    cell_id = len(nb.cells)-1\n",
    "    del nb.cells[cell_id]\n",
    "    #save the notebook\n",
    "    save_notebook(nb_path, nb)\n",
    "\n",
    "def delete_cell(nb_path, cell_id):\n",
    "    #load notebook\n",
    "    nb = load_notebook(nb_path)\n",
    "    \n",
    "    if cell_id > 0 and cell_id <= len(nb.cells):\n",
    "        #delete the cell\n",
    "        del nb.cells[cell_id-1]\n",
    "        #save the notebook\n",
    "        save_notebook(nb_path, nb)\n",
    "    else:\n",
    "        print(\"L'index de cellule spécifié est invalide.\")\n",
    "\n",
    "def get_last_cell(nb_path):\n",
    "    #load notebook\n",
    "    nb = load_notebook(nb_path)\n",
    "\n",
    "    #get last cell\n",
    "    last_cell = nb.cells[len(nb.cells)-1]\n",
    "\n",
    "    return last_cell.source"
   ]
  },
  {
   "cell_type": "code",
   "execution_count": null,
   "metadata": {},
   "outputs": [],
   "source": [
    "path = r'path'"
   ]
  },
  {
   "cell_type": "code",
   "execution_count": null,
   "metadata": {},
   "outputs": [],
   "source": [
    "import re \n",
    "\n",
    "def tools(router_action, query, path):\n",
    "     path = path.replace('\\\\', '/')\n",
    "     if \"create_code_cell\" in router_action:\n",
    "          code=code_generation(query)\n",
    "          code = code.replace('\\_', '_').replace('`',\"\")\n",
    "          pattern =r'[=-]{2,}'\n",
    "          clean_code = re.sub(pattern, '', code)\n",
    "          pattern =r' {2,}'\n",
    "          clean_code = re.sub(pattern, '', clean_code)\n",
    "          pattern = '&#x200B;'\n",
    "          clean_code = re.sub(pattern, '', clean_code)\n",
    "          clean_code = clean_code.split(\"This code\")[0].strip()\n",
    "          create_code_cell(path, clean_code)\n",
    "     elif \"create_markdown\" in router_action:\n",
    "          text = markdown_generation(query)\n",
    "          pattern =r' {2,}'\n",
    "          clean_text = re.sub(pattern, '', text)\n",
    "          create_markdown(path, clean_text)\n",
    "     elif \"update_last_cell\" in router_action:\n",
    "          code = get_last_cell(path) \n",
    "          upd_code = code_update(query, code).replace('\\_', '_').replace('`',\"\")\n",
    "          pattern =r'[=-]{2,}'\n",
    "          clean_code = re.sub(pattern, '', upd_code)\n",
    "          update_last_cell(path, clean_code.strip())\n",
    "          \n",
    "     elif \"update_cell\" in router_action:\n",
    "          code = 'print(\"Bonjour, je viens en paix!\")'\n",
    "          create_code_cell(path, code)\n",
    "     elif \"update_markdown\" in router_action:\n",
    "          text = 'Ce code est bon, zooouh!'\n",
    "          update_markdown(path, text)        \n",
    "     elif  \"delete_last_cell\" in router_action:\n",
    "          delete_last_cell(path)\n",
    "     elif \"delete_cell\" in router_action:\n",
    "          delete_cell(path)\n",
    "     elif \"explain_last_cell\" in router_action:\n",
    "          code = get_last_cell(path)\n",
    "          explication = code_explanation(code)\n",
    "          pattern =r' {2,}'\n",
    "          clean_text = re.sub(pattern, '', explication)\n",
    "          create_markdown(path, clean_text)"
   ]
  },
  {
   "cell_type": "code",
   "execution_count": null,
   "metadata": {},
   "outputs": [],
   "source": [
    "query = \"Ajoutes plusieurs solvers dans le dictionnaire de paramètres du grid search dans la cellulle précédente\"\n",
    "action = chain_router(query)"
   ]
  },
  {
   "cell_type": "code",
   "execution_count": null,
   "metadata": {},
   "outputs": [],
   "source": [
    "tools(action, query, path)"
   ]
  },
  {
   "cell_type": "code",
   "execution_count": null,
   "metadata": {},
   "outputs": [],
   "source": [
    "query = \"Un scatter plot pour le dataset iris\"\n",
    "action = chain_router(query)"
   ]
  },
  {
   "cell_type": "code",
   "execution_count": null,
   "metadata": {},
   "outputs": [],
   "source": [
    "tools(action, query, path)"
   ]
  },
  {
   "cell_type": "code",
   "execution_count": null,
   "metadata": {},
   "outputs": [],
   "source": [
    "def get_old_notebook(nb_path):\n",
    "    #get the name of the notebook\n",
    "    notebook_name = os.path.basename(nb_path)\n",
    "    #construct the backup path\n",
    "    backup_path = os.path.join(\"backup\", notebook_name)\n",
    "\n",
    "    #get our file\n",
    "    with open(backup_path, 'r', encoding='utf-8') as f:\n",
    "        nb = nbformat.read(f, as_version=4)\n",
    "\n",
    "    #save our notebbok with our old version\n",
    "    save_notebook(nb_path, nb)"
   ]
  },
  {
   "cell_type": "code",
   "execution_count": null,
   "metadata": {},
   "outputs": [],
   "source": [
    "get_old_notebook(path)"
   ]
  },
  {
   "cell_type": "markdown",
   "metadata": {},
   "source": [
    "Instantiation of the class"
   ]
  },
  {
   "cell_type": "code",
   "execution_count": null,
   "metadata": {},
   "outputs": [],
   "source": [
    "from langchain.chains import LLMChain\n",
    "from langchain.prompts import PromptTemplate\n",
    "from langchain.llms import HuggingFaceHub\n",
    "\n",
    "\n",
    "import matplotlib.pyplot as plt\n",
    "import seaborn as sns\n",
    "import pandas as pd\n",
    "import numpy as np\n",
    "# On lit nos variables environnments avec nos clés APIs\n",
    "import os\n",
    "from dotenv import load_dotenv, find_dotenv\n",
    "\n",
    "\n",
    "_ = load_dotenv(find_dotenv())\n",
    "llm =  HuggingFaceHub(repo_id=\"mistralai/Mixtral-8x7B-Instruct-v0.1\", model_kwargs={\"temperature\": 0.1, \"max_new_tokens\": 500})"
   ]
  },
  {
   "cell_type": "code",
   "execution_count": null,
   "metadata": {},
   "outputs": [],
   "source": [
    "from JupyCoder_lib import JupyCoder"
   ]
  },
  {
   "cell_type": "code",
   "execution_count": null,
   "metadata": {},
   "outputs": [],
   "source": [
    "path = r'path'"
   ]
  },
  {
   "cell_type": "code",
   "execution_count": null,
   "metadata": {},
   "outputs": [],
   "source": [
    "JupyAgent = JupyCoder(path, llm)"
   ]
  },
  {
   "cell_type": "code",
   "execution_count": null,
   "metadata": {},
   "outputs": [],
   "source": [
    "JupyAgent.make_action(\"Expliques moi ma dernière cellulle\")"
   ]
  },
  {
   "cell_type": "code",
   "execution_count": null,
   "metadata": {},
   "outputs": [],
   "source": [
    "JupyAgent.make_action(\"Modifie la dernière cellule et enlève 'Italie' de la colonne 'Pays' au lieu de 'Angleterre'\")"
   ]
  },
  {
   "cell_type": "code",
   "execution_count": null,
   "metadata": {},
   "outputs": [],
   "source": [
    "JupyAgent.make_action(\"Enlève les lignes de la colonne 'Pays' égale à 'Espagne' du dataframe df\")"
   ]
  }
 ],
 "metadata": {
  "kernelspec": {
   "display_name": "td_llm",
   "language": "python",
   "name": "python3"
  },
  "language_info": {
   "codemirror_mode": {
    "name": "ipython",
    "version": 3
   },
   "file_extension": ".py",
   "mimetype": "text/x-python",
   "name": "python",
   "nbconvert_exporter": "python",
   "pygments_lexer": "ipython3",
   "version": "3.11.4"
  }
 },
 "nbformat": 4,
 "nbformat_minor": 2
}
